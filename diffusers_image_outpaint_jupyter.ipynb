{
  "cells": [
    {
      "cell_type": "markdown",
      "metadata": {
        "id": "view-in-github"
      },
      "source": [
        "[![Open In Colab](https://colab.research.google.com/assets/colab-badge.svg)](https://colab.research.google.com/github/camenduru/diffusers-image-outpaint-jupyter/blob/main/diffusers_image_outpaint_jupyter.ipynb)"
      ]
    },
    {
      "cell_type": "code",
      "execution_count": null,
      "metadata": {
        "id": "VjYy0F2gZIPR"
      },
      "outputs": [],
      "source": [
        "%cd /content\n",
        "!git clone -b dev https://github.com/camenduru/diffusers-image-outpaint-hf\n",
        "%cd /content/diffusers-image-outpaint-hf\n",
        "!pip install transformers accelerate diffusers\n",
        "\n",
        "import torch\n",
        "from diffusers import AutoencoderKL\n",
        "from diffusers.models.model_loading_utils import load_state_dict\n",
        "from huggingface_hub import hf_hub_download\n",
        "\n",
        "from controlnet_union import ControlNetModel_Union\n",
        "from pipeline_fill_sd_xl import StableDiffusionXLFillPipeline\n",
        "\n",
        "from PIL import Image, ImageDraw\n",
        "\n",
        "config_file = hf_hub_download(\"xinsir/controlnet-union-sdxl-1.0\", filename=\"config_promax.json\")\n",
        "config = ControlNetModel_Union.load_config(config_file)\n",
        "controlnet_model = ControlNetModel_Union.from_config(config)\n",
        "model_file = hf_hub_download(\"xinsir/controlnet-union-sdxl-1.0\", filename=\"diffusion_pytorch_model_promax.safetensors\")\n",
        "state_dict = load_state_dict(model_file)\n",
        "model, _, _, _, _ = ControlNetModel_Union._load_pretrained_model(controlnet_model, state_dict, model_file, \"xinsir/controlnet-union-sdxl-1.0\")\n",
        "model.to(device=\"cuda\", dtype=torch.float16)\n",
        "vae = AutoencoderKL.from_pretrained(\"madebyollin/sdxl-vae-fp16-fix\", torch_dtype=torch.float16).to(\"cuda\")\n",
        "pipe = StableDiffusionXLFillPipeline.from_pretrained(\"SG161222/RealVisXL_V5.0_Lightning\", torch_dtype=torch.float16, vae=vae, controlnet=model, variant=\"fp16\").to(\"cuda\")\n",
        "\n",
        "def infer(image, width, height, overlap_width, num_inference_steps, prompt_input=None):\n",
        "    source = image\n",
        "    target_size = (width, height)\n",
        "    overlap = overlap_width\n",
        "\n",
        "    if source.width < target_size[0] and source.height < target_size[1]:\n",
        "        scale_factor = min(target_size[0] / source.width, target_size[1] / source.height)\n",
        "        new_width = int(source.width * scale_factor)\n",
        "        new_height = int(source.height * scale_factor)\n",
        "        source = source.resize((new_width, new_height), Image.LANCZOS)\n",
        "\n",
        "    if source.width > target_size[0] or source.height > target_size[1]:\n",
        "        scale_factor = min(target_size[0] / source.width, target_size[1] / source.height)\n",
        "        new_width = int(source.width * scale_factor)\n",
        "        new_height = int(source.height * scale_factor)\n",
        "        source = source.resize((new_width, new_height), Image.LANCZOS)\n",
        "\n",
        "    margin_x = (target_size[0] - source.width) // 2\n",
        "    margin_y = (target_size[1] - source.height) // 2\n",
        "\n",
        "    background = Image.new('RGB', target_size, (255, 255, 255))\n",
        "    background.paste(source, (margin_x, margin_y))\n",
        "\n",
        "    mask = Image.new('L', target_size, 255)\n",
        "    mask_draw = ImageDraw.Draw(mask)\n",
        "    mask_draw.rectangle([\n",
        "        (margin_x + overlap, margin_y + overlap),\n",
        "        (margin_x + source.width - overlap, margin_y + source.height - overlap)\n",
        "    ], fill=0)\n",
        "\n",
        "    cnet_image = background.copy()\n",
        "    cnet_image.paste(0, (0, 0), mask)\n",
        "\n",
        "    final_prompt = \"high quality\"\n",
        "    if prompt_input and prompt_input.strip():\n",
        "        final_prompt += \", \" + prompt_input\n",
        "\n",
        "    (\n",
        "        prompt_embeds,\n",
        "        negative_prompt_embeds,\n",
        "        pooled_prompt_embeds,\n",
        "        negative_pooled_prompt_embeds,\n",
        "    ) = pipe.encode_prompt(final_prompt, \"cuda\", True)\n",
        "\n",
        "    results = []\n",
        "    \n",
        "    for image in pipe(\n",
        "        prompt_embeds=prompt_embeds,\n",
        "        negative_prompt_embeds=negative_prompt_embeds,\n",
        "        pooled_prompt_embeds=pooled_prompt_embeds,\n",
        "        negative_pooled_prompt_embeds=negative_pooled_prompt_embeds,\n",
        "        image=cnet_image,\n",
        "        num_inference_steps=num_inference_steps\n",
        "    ):\n",
        "        results.append((cnet_image, image))\n",
        "\n",
        "    image = image.convert(\"RGBA\")\n",
        "    cnet_image.paste(image, (0, 0), mask)\n",
        "\n",
        "    results.append((background, cnet_image))\n",
        "\n",
        "    return results"
      ]
    },
    {
      "cell_type": "code",
      "execution_count": null,
      "metadata": {},
      "outputs": [],
      "source": [
        "input_image = Image.open(\"/content/diffusers-image-outpaint-hf/examples/example_3.jpg\")\n",
        "width = 1280\n",
        "height = 720\n",
        "overlap_width = 42\n",
        "num_inference_steps = 8\n",
        "prompt_input = None\n",
        "output_image = infer(input_image, height, width, overlap_width, num_inference_steps, None)\n",
        "output_image[num_inference_steps+1][1]"
      ]
    }
  ],
  "metadata": {
    "accelerator": "GPU",
    "colab": {
      "gpuType": "T4",
      "provenance": []
    },
    "kernelspec": {
      "display_name": "Python 3",
      "name": "python3"
    },
    "language_info": {
      "name": "python"
    }
  },
  "nbformat": 4,
  "nbformat_minor": 0
}
